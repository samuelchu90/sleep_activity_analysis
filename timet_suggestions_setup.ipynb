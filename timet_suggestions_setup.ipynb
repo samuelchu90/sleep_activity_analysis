{
 "cells": [
  {
   "cell_type": "code",
   "execution_count": 1,
   "id": "b8e31311",
   "metadata": {},
   "outputs": [],
   "source": [
    "from SALA import processing\n",
    "from SALA import plots\n",
    "import pandas as pd\n",
    "import numpy as np\n",
    "import datetime\n",
    "import statsmodels.api as sm\n",
    "import seaborn as sns\n",
    "import matplotlib.pyplot as plt"
   ]
  },
  {
   "cell_type": "code",
   "execution_count": 2,
   "id": "5edd09c3",
   "metadata": {},
   "outputs": [],
   "source": [
    "directory = {\n",
    "    'timet':'data/timet'\n",
    "}\n",
    "timezone = \"America/Los_Angeles\"\n",
    "latitude = 47.61\n",
    "longitude = 122.33"
   ]
  },
  {
   "cell_type": "code",
   "execution_count": 3,
   "id": "b9bc25ab",
   "metadata": {},
   "outputs": [
    {
     "data": {
      "text/plain": [
       "<SALA.processing.SALAFrame at 0x7fb6e04c1fd0>"
      ]
     },
     "execution_count": 3,
     "metadata": {},
     "output_type": "execute_result"
    }
   ],
   "source": [
    "sala = processing.SALAFrame(latitude, longitude, timezone, directory = directory)\n",
    "sala"
   ]
  },
  {
   "cell_type": "code",
   "execution_count": 4,
   "id": "4bc12f2d",
   "metadata": {},
   "outputs": [
    {
     "name": "stdout",
     "output_type": "stream",
     "text": [
      "Oops! No csv files in data/timet/\n"
     ]
    },
    {
     "ename": "OSError",
     "evalue": "",
     "output_type": "error",
     "traceback": [
      "\u001b[0;31m---------------------------------------------------------------------------\u001b[0m",
      "\u001b[0;31mOSError\u001b[0m                                   Traceback (most recent call last)",
      "Input \u001b[0;32mIn [4]\u001b[0m, in \u001b[0;36m<cell line: 1>\u001b[0;34m()\u001b[0m\n\u001b[0;32m----> 1\u001b[0m timet_raw \u001b[38;5;241m=\u001b[39m \u001b[43msala\u001b[49m\u001b[38;5;241;43m.\u001b[39;49m\u001b[43mget_raw_data_from_key\u001b[49m\u001b[43m(\u001b[49m\u001b[38;5;124;43m'\u001b[39;49m\u001b[38;5;124;43mtimet\u001b[39;49m\u001b[38;5;124;43m'\u001b[39;49m\u001b[43m)\u001b[49m\n\u001b[1;32m      2\u001b[0m timet_raw\n",
      "File \u001b[0;32m~/PROG/research_summer22/SALA/SALA/processing.py:441\u001b[0m, in \u001b[0;36mSALAFrame.get_raw_data_from_key\u001b[0;34m(self, key, directory, grouping)\u001b[0m\n\u001b[1;32m    439\u001b[0m \u001b[38;5;28;01mif\u001b[39;00m directory \u001b[38;5;129;01mis\u001b[39;00m \u001b[38;5;129;01mnot\u001b[39;00m \u001b[38;5;28;01mNone\u001b[39;00m:\n\u001b[1;32m    440\u001b[0m     \u001b[38;5;28mself\u001b[39m\u001b[38;5;241m.\u001b[39m_directory \u001b[38;5;241m=\u001b[39m directory\n\u001b[0;32m--> 441\u001b[0m raw_data \u001b[38;5;241m=\u001b[39m \u001b[43mload_actiwatch_data\u001b[49m\u001b[43m(\u001b[49m\u001b[38;5;28;43mself\u001b[39;49m\u001b[38;5;241;43m.\u001b[39;49m\u001b[43mdirectory\u001b[49m\u001b[43m[\u001b[49m\u001b[43mkey\u001b[49m\u001b[43m]\u001b[49m\u001b[43m,\u001b[49m\u001b[43m \u001b[49m\u001b[43muidprefix\u001b[49m\u001b[43m \u001b[49m\u001b[38;5;241;43m=\u001b[39;49m\u001b[43m \u001b[49m\u001b[43mkey\u001b[49m\u001b[43m)\u001b[49m[\u001b[38;5;241m0\u001b[39m]\n\u001b[1;32m    442\u001b[0m raw_data[grouping] \u001b[38;5;241m=\u001b[39m key\n\u001b[1;32m    443\u001b[0m \u001b[38;5;28;01mreturn\u001b[39;00m raw_data\n",
      "File \u001b[0;32m~/PROG/research_summer22/SALA/SALA/processing.py:122\u001b[0m, in \u001b[0;36mload_actiwatch_data\u001b[0;34m(path, uidprefix)\u001b[0m\n\u001b[1;32m    120\u001b[0m \u001b[38;5;28;01mif\u001b[39;00m \u001b[38;5;129;01mnot\u001b[39;00m files: \u001b[38;5;66;03m# let us know if there's no .csv files in path!\u001b[39;00m\n\u001b[1;32m    121\u001b[0m     \u001b[38;5;28mprint\u001b[39m(\u001b[38;5;124m'\u001b[39m\u001b[38;5;124mOops! No csv files in \u001b[39m\u001b[38;5;124m'\u001b[39m \u001b[38;5;241m+\u001b[39m path)\n\u001b[0;32m--> 122\u001b[0m     \u001b[38;5;28;01mraise\u001b[39;00m \u001b[38;5;167;01mOSError\u001b[39;00m\n\u001b[1;32m    123\u001b[0m \u001b[38;5;28;01melse\u001b[39;00m:\n\u001b[1;32m    124\u001b[0m     \u001b[38;5;28mprint\u001b[39m(\u001b[38;5;124m'\u001b[39m\u001b[38;5;124mFound \u001b[39m\u001b[38;5;132;01m{}\u001b[39;00m\u001b[38;5;124m csv files in \u001b[39m\u001b[38;5;132;01m{}\u001b[39;00m\u001b[38;5;124m. Pass #1, raw data\u001b[39m\u001b[38;5;124m'\u001b[39m\u001b[38;5;241m.\u001b[39mformat(\u001b[38;5;28mlen\u001b[39m(files),path))\n",
      "\u001b[0;31mOSError\u001b[0m: "
     ]
    }
   ],
   "source": [
    "timet_raw = sala.get_raw_data_from_key('timet')\n",
    "timet_raw"
   ]
  },
  {
   "cell_type": "code",
   "execution_count": null,
   "id": "4f9e2bbf",
   "metadata": {},
   "outputs": [],
   "source": [
    "timet_raw.to_parquet(\"data/timet/raw/timet_raw.parquet\",\n",
    "                               engine = \"fastparquet\", compression=\"gzip\")"
   ]
  },
  {
   "cell_type": "code",
   "execution_count": null,
   "id": "946a1e00",
   "metadata": {},
   "outputs": [],
   "source": [
    "sala.process_data(timet_raw, [[5],[50],[500]])"
   ]
  },
  {
   "cell_type": "code",
   "execution_count": null,
   "id": "772be2e4",
   "metadata": {},
   "outputs": [],
   "source": [
    "sala.data = sala.sun_timings()"
   ]
  },
  {
   "cell_type": "code",
   "execution_count": null,
   "id": "b39007a0",
   "metadata": {},
   "outputs": [],
   "source": [
    "short_frame, timing_data = sala.process_sleep(timet_raw, num_sleeps = 1)"
   ]
  },
  {
   "cell_type": "code",
   "execution_count": null,
   "id": "47463494",
   "metadata": {},
   "outputs": [],
   "source": [
    "sala.export('data/timet/processed/timet_processed')"
   ]
  },
  {
   "cell_type": "code",
   "execution_count": null,
   "id": "2e866146",
   "metadata": {},
   "outputs": [],
   "source": []
  }
 ],
 "metadata": {
  "kernelspec": {
   "display_name": "Python 3.9.12 ('myenv_x86')",
   "language": "python",
   "name": "python3912jvsc74a57bd0905148e4bb33a9ae26ed62119bc9f90bdbce98cc46f4289ac11a942456a02f49"
  },
  "language_info": {
   "codemirror_mode": {
    "name": "ipython",
    "version": 3
   },
   "file_extension": ".py",
   "mimetype": "text/x-python",
   "name": "python",
   "nbconvert_exporter": "python",
   "pygments_lexer": "ipython3",
   "version": "3.9.12"
  }
 },
 "nbformat": 4,
 "nbformat_minor": 5
}
